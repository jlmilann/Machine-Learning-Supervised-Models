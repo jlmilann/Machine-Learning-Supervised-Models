{
 "cells": [
  {
   "cell_type": "markdown",
   "id": "3c0339c1",
   "metadata": {},
   "source": [
    "# Linear Regression using Gradient Descent Method\n",
    "\n",
    "#### Author: Jose Luis Milan"
   ]
  },
  {
   "cell_type": "markdown",
   "id": "4f777388",
   "metadata": {},
   "source": [
    "## Importing dataset\n",
    "\n",
    "First, we import the data. The dataset we'll be working with was obtained from Kaggle and will be used for the analysis and modeling of this project."
   ]
  },
  {
   "cell_type": "code",
   "execution_count": 26,
   "id": "2b6e8db5",
   "metadata": {},
   "outputs": [
    {
     "name": "stderr",
     "output_type": "stream",
     "text": [
      "<>:5: SyntaxWarning: invalid escape sequence '\\d'\n",
      "<>:5: SyntaxWarning: invalid escape sequence '\\d'\n",
      "C:\\Users\\jluis\\AppData\\Local\\Temp\\ipykernel_28688\\3686758027.py:5: SyntaxWarning: invalid escape sequence '\\d'\n",
      "  df = pd.read_csv(\"..\\data\\Salary_dataset.csv\")\n"
     ]
    },
    {
     "data": {
      "text/html": [
       "<div>\n",
       "<style scoped>\n",
       "    .dataframe tbody tr th:only-of-type {\n",
       "        vertical-align: middle;\n",
       "    }\n",
       "\n",
       "    .dataframe tbody tr th {\n",
       "        vertical-align: top;\n",
       "    }\n",
       "\n",
       "    .dataframe thead th {\n",
       "        text-align: right;\n",
       "    }\n",
       "</style>\n",
       "<table border=\"1\" class=\"dataframe\">\n",
       "  <thead>\n",
       "    <tr style=\"text-align: right;\">\n",
       "      <th></th>\n",
       "      <th>Unnamed: 0</th>\n",
       "      <th>YearsExperience</th>\n",
       "      <th>Salary</th>\n",
       "    </tr>\n",
       "  </thead>\n",
       "  <tbody>\n",
       "    <tr>\n",
       "      <th>0</th>\n",
       "      <td>0</td>\n",
       "      <td>1.2</td>\n",
       "      <td>39344.0</td>\n",
       "    </tr>\n",
       "    <tr>\n",
       "      <th>1</th>\n",
       "      <td>1</td>\n",
       "      <td>1.4</td>\n",
       "      <td>46206.0</td>\n",
       "    </tr>\n",
       "    <tr>\n",
       "      <th>2</th>\n",
       "      <td>2</td>\n",
       "      <td>1.6</td>\n",
       "      <td>37732.0</td>\n",
       "    </tr>\n",
       "    <tr>\n",
       "      <th>3</th>\n",
       "      <td>3</td>\n",
       "      <td>2.1</td>\n",
       "      <td>43526.0</td>\n",
       "    </tr>\n",
       "    <tr>\n",
       "      <th>4</th>\n",
       "      <td>4</td>\n",
       "      <td>2.3</td>\n",
       "      <td>39892.0</td>\n",
       "    </tr>\n",
       "  </tbody>\n",
       "</table>\n",
       "</div>"
      ],
      "text/plain": [
       "   Unnamed: 0  YearsExperience   Salary\n",
       "0           0              1.2  39344.0\n",
       "1           1              1.4  46206.0\n",
       "2           2              1.6  37732.0\n",
       "3           3              2.1  43526.0\n",
       "4           4              2.3  39892.0"
      ]
     },
     "execution_count": 26,
     "metadata": {},
     "output_type": "execute_result"
    }
   ],
   "source": [
    "import pandas as pd\n",
    "import matplotlib.pyplot as plt\n",
    "import seaborn as sns\n",
    "\n",
    "df = pd.read_csv(\"..\\data\\Salary_dataset.csv\")\n",
    "df.head()"
   ]
  },
  {
   "cell_type": "code",
   "execution_count": 25,
   "id": "d096a372",
   "metadata": {},
   "outputs": [
    {
     "name": "stdout",
     "output_type": "stream",
     "text": [
      "<class 'pandas.core.frame.DataFrame'>\n",
      "RangeIndex: 30 entries, 0 to 29\n",
      "Data columns (total 2 columns):\n",
      " #   Column           Non-Null Count  Dtype  \n",
      "---  ------           --------------  -----  \n",
      " 0   YearsExperience  30 non-null     float64\n",
      " 1   Salary           30 non-null     float64\n",
      "dtypes: float64(2)\n",
      "memory usage: 612.0 bytes\n"
     ]
    }
   ],
   "source": [
    "df.info()"
   ]
  },
  {
   "cell_type": "markdown",
   "id": "9b0cf481",
   "metadata": {},
   "source": [
    "We notice that we have 30 non-null records in the YearsExperience and Salary columns."
   ]
  },
  {
   "cell_type": "markdown",
   "metadata": {},
   "source": [
    "Now, we will remove the columns that are not necessary for the data analysis."
   ]
  },
  {
   "cell_type": "code",
   "execution_count": 30,
   "id": "4e0d1fb8",
   "metadata": {},
   "outputs": [],
   "source": [
    "df.drop('Unnamed: 0', axis=1, inplace=True)"
   ]
  },
  {
   "cell_type": "code",
   "execution_count": 31,
   "id": "7b4401a4",
   "metadata": {},
   "outputs": [
    {
     "data": {
      "text/html": [
       "<div>\n",
       "<style scoped>\n",
       "    .dataframe tbody tr th:only-of-type {\n",
       "        vertical-align: middle;\n",
       "    }\n",
       "\n",
       "    .dataframe tbody tr th {\n",
       "        vertical-align: top;\n",
       "    }\n",
       "\n",
       "    .dataframe thead th {\n",
       "        text-align: right;\n",
       "    }\n",
       "</style>\n",
       "<table border=\"1\" class=\"dataframe\">\n",
       "  <thead>\n",
       "    <tr style=\"text-align: right;\">\n",
       "      <th></th>\n",
       "      <th>YearsExperience</th>\n",
       "      <th>Salary</th>\n",
       "    </tr>\n",
       "  </thead>\n",
       "  <tbody>\n",
       "    <tr>\n",
       "      <th>0</th>\n",
       "      <td>1.2</td>\n",
       "      <td>39344.0</td>\n",
       "    </tr>\n",
       "    <tr>\n",
       "      <th>1</th>\n",
       "      <td>1.4</td>\n",
       "      <td>46206.0</td>\n",
       "    </tr>\n",
       "    <tr>\n",
       "      <th>2</th>\n",
       "      <td>1.6</td>\n",
       "      <td>37732.0</td>\n",
       "    </tr>\n",
       "    <tr>\n",
       "      <th>3</th>\n",
       "      <td>2.1</td>\n",
       "      <td>43526.0</td>\n",
       "    </tr>\n",
       "    <tr>\n",
       "      <th>4</th>\n",
       "      <td>2.3</td>\n",
       "      <td>39892.0</td>\n",
       "    </tr>\n",
       "  </tbody>\n",
       "</table>\n",
       "</div>"
      ],
      "text/plain": [
       "   YearsExperience   Salary\n",
       "0              1.2  39344.0\n",
       "1              1.4  46206.0\n",
       "2              1.6  37732.0\n",
       "3              2.1  43526.0\n",
       "4              2.3  39892.0"
      ]
     },
     "execution_count": 31,
     "metadata": {},
     "output_type": "execute_result"
    }
   ],
   "source": [
    "df.head()"
   ]
  },
  {
   "cell_type": "markdown",
   "id": "fdd8dacd",
   "metadata": {},
   "source": [
    "## Exploratory Data Analysis (EDA)\n",
    "\n",
    "Once we have the data imported, we begin exploratory data analysis. In this section, we will study the behavior of the data, how it is distributed, and more."
   ]
  },
  {
   "cell_type": "code",
   "execution_count": 32,
   "id": "7f5bff60",
   "metadata": {},
   "outputs": [
    {
     "data": {
      "text/html": [
       "<div>\n",
       "<style scoped>\n",
       "    .dataframe tbody tr th:only-of-type {\n",
       "        vertical-align: middle;\n",
       "    }\n",
       "\n",
       "    .dataframe tbody tr th {\n",
       "        vertical-align: top;\n",
       "    }\n",
       "\n",
       "    .dataframe thead th {\n",
       "        text-align: right;\n",
       "    }\n",
       "</style>\n",
       "<table border=\"1\" class=\"dataframe\">\n",
       "  <thead>\n",
       "    <tr style=\"text-align: right;\">\n",
       "      <th></th>\n",
       "      <th>YearsExperience</th>\n",
       "      <th>Salary</th>\n",
       "    </tr>\n",
       "  </thead>\n",
       "  <tbody>\n",
       "    <tr>\n",
       "      <th>count</th>\n",
       "      <td>30.000000</td>\n",
       "      <td>30.000000</td>\n",
       "    </tr>\n",
       "    <tr>\n",
       "      <th>mean</th>\n",
       "      <td>5.413333</td>\n",
       "      <td>76004.000000</td>\n",
       "    </tr>\n",
       "    <tr>\n",
       "      <th>std</th>\n",
       "      <td>2.837888</td>\n",
       "      <td>27414.429785</td>\n",
       "    </tr>\n",
       "    <tr>\n",
       "      <th>min</th>\n",
       "      <td>1.200000</td>\n",
       "      <td>37732.000000</td>\n",
       "    </tr>\n",
       "    <tr>\n",
       "      <th>25%</th>\n",
       "      <td>3.300000</td>\n",
       "      <td>56721.750000</td>\n",
       "    </tr>\n",
       "    <tr>\n",
       "      <th>50%</th>\n",
       "      <td>4.800000</td>\n",
       "      <td>65238.000000</td>\n",
       "    </tr>\n",
       "    <tr>\n",
       "      <th>75%</th>\n",
       "      <td>7.800000</td>\n",
       "      <td>100545.750000</td>\n",
       "    </tr>\n",
       "    <tr>\n",
       "      <th>max</th>\n",
       "      <td>10.600000</td>\n",
       "      <td>122392.000000</td>\n",
       "    </tr>\n",
       "  </tbody>\n",
       "</table>\n",
       "</div>"
      ],
      "text/plain": [
       "       YearsExperience         Salary\n",
       "count        30.000000      30.000000\n",
       "mean          5.413333   76004.000000\n",
       "std           2.837888   27414.429785\n",
       "min           1.200000   37732.000000\n",
       "25%           3.300000   56721.750000\n",
       "50%           4.800000   65238.000000\n",
       "75%           7.800000  100545.750000\n",
       "max          10.600000  122392.000000"
      ]
     },
     "execution_count": 32,
     "metadata": {},
     "output_type": "execute_result"
    }
   ],
   "source": [
    "df.describe()"
   ]
  },
  {
   "cell_type": "code",
   "execution_count": 33,
   "metadata": {},
   "outputs": [
    {
     "data": {
      "text/plain": [
       "<seaborn.axisgrid.JointGrid at 0x1ccdac88050>"
      ]
     },
     "execution_count": 33,
     "metadata": {},
     "output_type": "execute_result"
    },
    {
     "data": {
      "image/png": "[encoded data removed]",
      "text/plain": [
       "<Figure size 600x600 with 3 Axes>"
      ]
     },
     "metadata": {},
     "output_type": "display_data"
    }
   ],
   "source": [
    "sns.jointplot(x='YearsExperience', y='Salary', data=df)"
   ]
  },
  {
   "cell_type": "markdown",
   "id": "eba01542",
   "metadata": {},
   "source": [
    "Looking at the scatter plot, we notice that the data show linear behavior."
   ]
  },
  {
   "cell_type": "code",
   "execution_count": 34,
   "id": "46a3adef",
   "metadata": {},
   "outputs": [
    {
     "data": {
      "text/plain": [
       "<seaborn.axisgrid.PairGrid at 0x1ccdad41e50>"
      ]
     },
     "execution_count": 34,
     "metadata": {},
     "output_type": "execute_result"
    },
    {
     "data": {
      "image/png": "[encoded data removed]",
      "text/plain": [
       "<Figure size 500x500 with 6 Axes>"
      ]
     },
     "metadata": {},
     "output_type": "display_data"
    }
   ],
   "source": [
    "sns.pairplot(df, kind='scatter', plot_kws={'alpha': 0.8})"
   ]
  },
  {
   "cell_type": "markdown",
   "id": "930a6971",
   "metadata": {},
   "source": [
    "## Linear Regression Explanation\n",
    "\n",
    "Simple linear regression is a parametric technique used to predict continuous dependent variables, given a set of independent variables.\n",
    "\n",
    "Its equation is expressed in the form:\n",
    "\n",
    "$$ \\hat{y} = \\theta_0 + \\theta_1 x $$\n",
    "\n",
    "Therefore, to calculate the coefficients $\\theta_0$  and $\\theta_1$, we will use the least squares equation.\n",
    "\n",
    "$$ E = \\frac{1}{n} \\sum_{i=0}^{n} (y_i - \\hat{y}_i)^2 = \\frac{1}{n} \\sum_{i=0}^{n} (y_i - (\\theta_0 + \\theta_1 x_i))^2 $$\n",
    "\n",
    "We calculate the partial derivative with respect to $\\theta_0$ and obtain:\n",
    "$$ \\frac{\\partial E}{\\partial\\theta_0} = \\frac{\\partial}{\\partial\\theta_0} \\left( \\frac{1}{n} \\sum_{i=0}^{n} (y_i - (\\theta_0 + \\theta_1 x_i))^2 \\right) $$\n",
    "\n",
    "$$ \\frac{\\partial E}{\\partial\\theta_0} = \\frac{1}{n} \\sum_{i=0}^{n} 2(y_i - (\\theta_0 + \\theta_1 x_i)) \\cdot (-1) $$\n",
    "\n",
    "$$ \\frac{\\partial E}{\\partial\\theta_0} = -\\frac{2}{n} \\sum_{i=0}^{n} (y_i - \\hat{y}_i) $$\n",
    "\n",
    "Then, we calculate the partial derivative with respect to $\\theta_1$ and obtain:\n",
    "$$ \\frac{\\partial E}{\\partial\\theta_1} = \\frac{\\partial}{\\partial\\theta_1} \\left( \\frac{1}{n} \\sum_{i=0}^{n} (y_i - (\\theta_0 + \\theta_1 x_i))^2 \\right) $$\n",
    "\n",
    "$$ = \\frac{1}{n} \\sum_{i=0}^{n} 2(y_i - (\\theta_0 + \\theta_1 x_i)) \\cdot x_i $$\n",
    "\n",
    "$$ \\frac{\\partial E}{\\partial\\theta_1} = -\\frac{2}{n} \\sum_{i=0}^{n} x_i (y_i - \\hat{y}_i) $$\n"
   ]
  },
  {
   "cell_type": "markdown",
   "id": "99c3e0ad",
   "metadata": {},
   "source": [
    "## Parameter update in Gradient Descent\n",
    "\n",
    "The equations show how the parameters $\\theta_0$ and $\\theta_1$ are updated in the **Gradient Descent** algorithm for linear regression:\n",
    "\n",
    "$$\n",
    "\\theta_{0}^{(n+1)} = \\theta_0^{(n)} - \\alpha \\frac{\\partial E}{\\partial \\theta_0}\n",
    "$$\n",
    "\n",
    "$$\n",
    "\\theta_{1}^{(n+1)} = \\theta_1^{(n)} - \\alpha \\frac{\\partial E}{\\partial \\theta_1}\n",
    "$$\n",
    "\n",
    "### Explanation:\n",
    "- $\\theta_0, \\theta_1$: Model parameters (intercept and slope).\n",
    "- $\\alpha$ (Learning Rate): Controls the step size during optimization. - Typical values: 0.001, 0.01, 0.1 (must be adjusted to avoid divergence or slow convergence).\n",
    "- Partial derivatives of the error E (indicate the direction of greatest decline).\n"
   ]
  },
  {
   "cell_type": "markdown",
   "id": "e2b929e4",
   "metadata": {},
   "source": [
    "## Implementation in Python"
   ]
  },
  {
   "cell_type": "code",
   "execution_count": 10,
   "id": "81d5c928",
   "metadata": {},
   "outputs": [],
   "source": [
    "def cost_function (theta_0, theta_1, data):\n",
    "    total_error = 0\n",
    "    for i in range(len(data)):\n",
    "        x = data.iloc[i].YearsExperience\n",
    "        y = data.iloc[i].Salary\n",
    "        total_error += (y -(theta_0 + (theta_1 * x))) ** 2\n",
    "    \n",
    "    total_error / float(len(data))"
   ]
  },
  {
   "cell_type": "code",
   "execution_count": 11,
   "id": "4b00c474",
   "metadata": {},
   "outputs": [],
   "source": [
    "def gradient_descent (theta0_now, theta1_now, data, lr):\n",
    "    theta0_gradient = 0\n",
    "    theta1_gradient = 0\n",
    "\n",
    "    n = len(data)\n",
    "\n",
    "    for i in range (n):\n",
    "        x = data.iloc[i].YearsExperience\n",
    "        y = data.iloc[i].Salary\n",
    "\n",
    "        theta0_gradient += -(2/n) * (y - (theta0_now + (theta1_now * x)))\n",
    "        theta1_gradient += -(2/n) * x * (y - (theta0_now + (theta1_now * x)))\n",
    "\n",
    "    theta0 = theta0_now - (lr * theta0_gradient)\n",
    "    theta1 = theta1_now - (lr * theta1_gradient)\n",
    "\n",
    "    return theta0, theta1\n"
   ]
  },
  {
   "cell_type": "code",
   "execution_count": 39,
   "id": "a7da52d1",
   "metadata": {},
   "outputs": [
    {
     "name": "stdout",
     "output_type": "stream",
     "text": [
      "Epoch: 0\n",
      "Epoch: 100\n",
      "Epoch: 200\n",
      "Epoch: 300\n",
      "Epoch: 400\n",
      "Epoch: 500\n",
      "Epoch: 600\n",
      "Epoch: 700\n",
      "Epoch: 800\n",
      "Epoch: 900\n",
      "Epoch: 1000\n",
      "Epoch: 1100\n",
      "Epoch: 1200\n",
      "Epoch: 1300\n",
      "Epoch: 1400\n",
      "Epoch: 1500\n",
      "Epoch: 1600\n",
      "Epoch: 1700\n",
      "Epoch: 1800\n",
      "Epoch: 1900\n",
      "Epoch: 2000\n",
      "Epoch: 2100\n",
      "Epoch: 2200\n",
      "Epoch: 2300\n",
      "Epoch: 2400\n",
      "Epoch: 2500\n",
      "Epoch: 2600\n",
      "Epoch: 2700\n",
      "Epoch: 2800\n",
      "Epoch: 2900\n",
      "Epoch: 3000\n",
      "Epoch: 3100\n",
      "Epoch: 3200\n",
      "Epoch: 3300\n",
      "Epoch: 3400\n",
      "Epoch: 3500\n",
      "Epoch: 3600\n",
      "Epoch: 3700\n",
      "Epoch: 3800\n",
      "Epoch: 3900\n",
      "Epoch: 4000\n",
      "Epoch: 4100\n",
      "Epoch: 4200\n",
      "Epoch: 4300\n",
      "Epoch: 4400\n",
      "Epoch: 4500\n",
      "Epoch: 4600\n",
      "Epoch: 4700\n",
      "Epoch: 4800\n",
      "Epoch: 4900\n",
      "Epoch: 5000\n",
      "Epoch: 5100\n",
      "Epoch: 5200\n",
      "Epoch: 5300\n",
      "Epoch: 5400\n",
      "Epoch: 5500\n",
      "Epoch: 5600\n",
      "Epoch: 5700\n",
      "Epoch: 5800\n",
      "Epoch: 5900\n",
      "Epoch: 6000\n",
      "Epoch: 6100\n",
      "Epoch: 6200\n",
      "Epoch: 6300\n",
      "Epoch: 6400\n",
      "Epoch: 6500\n",
      "Epoch: 6600\n",
      "Epoch: 6700\n",
      "Epoch: 6800\n",
      "Epoch: 6900\n",
      "Epoch: 7000\n",
      "Epoch: 7100\n",
      "Epoch: 7200\n",
      "Epoch: 7300\n",
      "Epoch: 7400\n",
      "Epoch: 7500\n",
      "Epoch: 7600\n",
      "Epoch: 7700\n",
      "Epoch: 7800\n",
      "Epoch: 7900\n",
      "Epoch: 8000\n",
      "Epoch: 8100\n",
      "Epoch: 8200\n",
      "Epoch: 8300\n",
      "Epoch: 8400\n",
      "Epoch: 8500\n",
      "Epoch: 8600\n",
      "Epoch: 8700\n",
      "Epoch: 8800\n",
      "Epoch: 8900\n",
      "Epoch: 9000\n",
      "Epoch: 9100\n",
      "Epoch: 9200\n",
      "Epoch: 9300\n",
      "Epoch: 9400\n",
      "Epoch: 9500\n",
      "Epoch: 9600\n",
      "Epoch: 9700\n",
      "Epoch: 9800\n",
      "Epoch: 9900\n",
      "9621.83417288964 11684.692536554861\n"
     ]
    }
   ],
   "source": [
    "#Training model\n",
    "\n",
    "theta0 = 0\n",
    "theta1 = 0\n",
    "lr = 0.0001\n",
    "epochs = 10000\n",
    "\n",
    "for i in range(epochs):\n",
    "    if i % 100 == 0:\n",
    "        print(f'Epoch: {i}')\n",
    "    theta0, theta1 = gradient_descent(theta0, theta1, df, lr)\n",
    "\n",
    "print(theta0, theta1)"
   ]
  },
  {
   "cell_type": "code",
   "execution_count": 43,
   "id": "c96620ea",
   "metadata": {},
   "outputs": [
    {
     "data": {
      "image/png": "[encoded data removed]",
      "text/plain": [
       "<Figure size 640x480 with 1 Axes>"
      ]
     },
     "metadata": {},
     "output_type": "display_data"
    }
   ],
   "source": [
    "x = df['YearsExperience']\n",
    "y = df['Salary']\n",
    "y_pred = theta0 + theta1 * x\n",
    "\n",
    "plt.scatter(x, y, color='black', alpha=0.6, label = 'Original Data')\n",
    "plt.plot(x, y_pred, color='red', linewidth=2.5, label='Model')\n",
    "\n",
    "plt.title('Simple Linear Regression using Descent Gradient')\n",
    "plt.xlabel('Years Experience')\n",
    "plt.ylabel('Salary')\n",
    "\n",
    "plt.legend()\n",
    "plt.grid()\n",
    "\n",
    "plt.show()"
   ]
  },
  {
   "cell_type": "markdown",
   "id": "ce724a0e",
   "metadata": {},
   "source": [
    "Let's calculate R^2 from its definition:\n",
    "\n",
    "$$ R^2 = 1 - \\frac{SSE}{SST} $$\n",
    "\n",
    "Where:\n",
    "\n",
    "$$ \\text{SSE} = \\sum_{i=1}^{n} (y_i - \\hat{y}_i)^2 $$\n",
    "And \n",
    "\n",
    "$$ \\text{SST} = \\sum_{i=1}^{n} (y_i - \\bar{y})^2 $$\n",
    "\n",
    "\n"
   ]
  },
  {
   "cell_type": "code",
   "execution_count": 44,
   "id": "b34c0d8b",
   "metadata": {},
   "outputs": [
    {
     "name": "stdout",
     "output_type": "stream",
     "text": [
      "R^2: 0.8899641033154573\n"
     ]
    }
   ],
   "source": [
    "#Error Sum of Squares\n",
    "sse = ((y - y_pred) ** 2).sum()\n",
    "\n",
    "# Error Sum of Squares Total\n",
    "sst = ((y - y.mean()) ** 2).sum()\n",
    "\n",
    "# R^2\n",
    "r_squared = 1 - (sse / sst)\n",
    "print(f'R^2: {r_squared}')"
   ]
  },
  {
   "cell_type": "code",
   "execution_count": null,
   "id": "68ceeba8",
   "metadata": {},
   "outputs": [],
   "source": []
  }
 ],
 "metadata": {
  "kernelspec": {
   "display_name": "venv",
   "language": "python",
   "name": "python3"
  },
  "language_info": {
   "codemirror_mode": {
    "name": "ipython",
    "version": 3
   },
   "file_extension": ".py",
   "mimetype": "text/x-python",
   "name": "python",
   "nbconvert_exporter": "python",
   "pygments_lexer": "ipython3",
   "version": "3.13.2"
  }
 },
 "nbformat": 4,
 "nbformat_minor": 5
}
