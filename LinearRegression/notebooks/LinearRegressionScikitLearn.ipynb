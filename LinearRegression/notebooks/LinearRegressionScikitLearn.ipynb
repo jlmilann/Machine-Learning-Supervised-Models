{
 "cells": [
  {
   "cell_type": "markdown",
   "id": "f48dad2a",
   "metadata": {},
   "source": [
    "# Regresión Lineal (Linear Regression)\n",
    "\n",
    "#### Autor: Jose Luis Milan"
   ]
  },
  {
   "cell_type": "markdown",
   "id": "1292f739",
   "metadata": {},
   "source": [
    "##### Paso 0: Importar los datos"
   ]
  },
  {
   "cell_type": "code",
   "execution_count": 5,
   "id": "05d17436",
   "metadata": {},
   "outputs": [
    {
     "name": "stderr",
     "output_type": "stream",
     "text": [
      "<>:8: SyntaxWarning: invalid escape sequence '\\d'\n",
      "<>:8: SyntaxWarning: invalid escape sequence '\\d'\n",
      "C:\\Users\\jluis\\AppData\\Local\\Temp\\ipykernel_2436\\1120016346.py:8: SyntaxWarning: invalid escape sequence '\\d'\n",
      "  df = pd.read_csv('..\\data\\population.csv')\n"
     ]
    }
   ],
   "source": [
    "import pandas as pd\n",
    "import numpy as np\n",
    "import matplotlib.pyplot as plt\n",
    "import seaborn as sns\n",
    "plt.style.use('ggplot')\n",
    "pd.set_option('display.max_columns', 25)\n",
    "\n",
    "df = pd.read_csv('..\\data\\population.csv')"
   ]
  },
  {
   "cell_type": "code",
   "execution_count": 6,
   "id": "8916e25b",
   "metadata": {},
   "outputs": [
    {
     "data": {
      "text/html": [
       "<div>\n",
       "<style scoped>\n",
       "    .dataframe tbody tr th:only-of-type {\n",
       "        vertical-align: middle;\n",
       "    }\n",
       "\n",
       "    .dataframe tbody tr th {\n",
       "        vertical-align: top;\n",
       "    }\n",
       "\n",
       "    .dataframe thead th {\n",
       "        text-align: right;\n",
       "    }\n",
       "</style>\n",
       "<table border=\"1\" class=\"dataframe\">\n",
       "  <thead>\n",
       "    <tr style=\"text-align: right;\">\n",
       "      <th></th>\n",
       "      <th>Year</th>\n",
       "      <th>Yearly % \\nChange</th>\n",
       "      <th>Yearly\\nChange</th>\n",
       "      <th>Migrants (net)</th>\n",
       "      <th>Median Age</th>\n",
       "      <th>Fertility Rate</th>\n",
       "      <th>Density (P/Km²)</th>\n",
       "      <th>Urban\\nPop %</th>\n",
       "      <th>Urban Population</th>\n",
       "      <th>Country's Share of\\nWorld Pop</th>\n",
       "      <th>World Population</th>\n",
       "      <th>India\\nGlobal Rank</th>\n",
       "      <th>Population</th>\n",
       "    </tr>\n",
       "  </thead>\n",
       "  <tbody>\n",
       "    <tr>\n",
       "      <th>0</th>\n",
       "      <td>2050</td>\n",
       "      <td>0.23</td>\n",
       "      <td>3711367</td>\n",
       "      <td>NaN</td>\n",
       "      <td>38.1</td>\n",
       "      <td>2.24</td>\n",
       "      <td>551</td>\n",
       "      <td>53.5</td>\n",
       "      <td>876613025</td>\n",
       "      <td>16.84</td>\n",
       "      <td>9735033990</td>\n",
       "      <td>1</td>\n",
       "      <td>1639176033</td>\n",
       "    </tr>\n",
       "    <tr>\n",
       "      <th>1</th>\n",
       "      <td>2045</td>\n",
       "      <td>0.35</td>\n",
       "      <td>5585537</td>\n",
       "      <td>-414772.0</td>\n",
       "      <td>36.6</td>\n",
       "      <td>2.24</td>\n",
       "      <td>545</td>\n",
       "      <td>50.1</td>\n",
       "      <td>811749463</td>\n",
       "      <td>17.09</td>\n",
       "      <td>9481803274</td>\n",
       "      <td>1</td>\n",
       "      <td>1620619200</td>\n",
       "    </tr>\n",
       "    <tr>\n",
       "      <th>2</th>\n",
       "      <td>2040</td>\n",
       "      <td>0.50</td>\n",
       "      <td>7793541</td>\n",
       "      <td>-415736.0</td>\n",
       "      <td>35.0</td>\n",
       "      <td>2.24</td>\n",
       "      <td>536</td>\n",
       "      <td>46.7</td>\n",
       "      <td>744380367</td>\n",
       "      <td>17.31</td>\n",
       "      <td>9198847240</td>\n",
       "      <td>1</td>\n",
       "      <td>1592691513</td>\n",
       "    </tr>\n",
       "    <tr>\n",
       "      <th>3</th>\n",
       "      <td>2035</td>\n",
       "      <td>0.66</td>\n",
       "      <td>10016298</td>\n",
       "      <td>-415732.0</td>\n",
       "      <td>33.3</td>\n",
       "      <td>2.24</td>\n",
       "      <td>523</td>\n",
       "      <td>43.5</td>\n",
       "      <td>675456367</td>\n",
       "      <td>17.48</td>\n",
       "      <td>8887524213</td>\n",
       "      <td>1</td>\n",
       "      <td>1553723810</td>\n",
       "    </tr>\n",
       "    <tr>\n",
       "      <th>4</th>\n",
       "      <td>2030</td>\n",
       "      <td>0.80</td>\n",
       "      <td>11726140</td>\n",
       "      <td>-440124.0</td>\n",
       "      <td>31.7</td>\n",
       "      <td>2.24</td>\n",
       "      <td>506</td>\n",
       "      <td>40.4</td>\n",
       "      <td>607341981</td>\n",
       "      <td>17.59</td>\n",
       "      <td>8548487400</td>\n",
       "      <td>1</td>\n",
       "      <td>1503642322</td>\n",
       "    </tr>\n",
       "  </tbody>\n",
       "</table>\n",
       "</div>"
      ],
      "text/plain": [
       "   Year  Yearly % \\nChange  Yearly\\nChange  Migrants (net)  Median Age  \\\n",
       "0  2050               0.23         3711367             NaN        38.1   \n",
       "1  2045               0.35         5585537       -414772.0        36.6   \n",
       "2  2040               0.50         7793541       -415736.0        35.0   \n",
       "3  2035               0.66        10016298       -415732.0        33.3   \n",
       "4  2030               0.80        11726140       -440124.0        31.7   \n",
       "\n",
       "   Fertility Rate  Density (P/Km²)  Urban\\nPop %  Urban Population  \\\n",
       "0            2.24              551          53.5         876613025   \n",
       "1            2.24              545          50.1         811749463   \n",
       "2            2.24              536          46.7         744380367   \n",
       "3            2.24              523          43.5         675456367   \n",
       "4            2.24              506          40.4         607341981   \n",
       "\n",
       "   Country's Share of\\nWorld Pop World Population  India\\nGlobal Rank  \\\n",
       "0                          16.84       9735033990                   1   \n",
       "1                          17.09       9481803274                   1   \n",
       "2                          17.31       9198847240                   1   \n",
       "3                          17.48       8887524213                   1   \n",
       "4                          17.59       8548487400                   1   \n",
       "\n",
       "   Population  \n",
       "0  1639176033  \n",
       "1  1620619200  \n",
       "2  1592691513  \n",
       "3  1553723810  \n",
       "4  1503642322  "
      ]
     },
     "execution_count": 6,
     "metadata": {},
     "output_type": "execute_result"
    }
   ],
   "source": [
    "df.head()"
   ]
  },
  {
   "cell_type": "markdown",
   "id": "5633bc4f",
   "metadata": {},
   "source": [
    "#### Paso 1: Entender los datos"
   ]
  },
  {
   "cell_type": "code",
   "execution_count": 10,
   "id": "ef13ebb5",
   "metadata": {},
   "outputs": [
    {
     "name": "stdout",
     "output_type": "stream",
     "text": [
      "<class 'pandas.core.frame.DataFrame'>\n",
      "RangeIndex: 24 entries, 0 to 23\n",
      "Data columns (total 13 columns):\n",
      " #   Column                        Non-Null Count  Dtype  \n",
      "---  ------                        --------------  -----  \n",
      " 0   Year                          24 non-null     int64  \n",
      " 1   Yearly % \n",
      "Change              24 non-null     float64\n",
      " 2   Yearly\n",
      "Change                 24 non-null     int64  \n",
      " 3   Migrants (net)                23 non-null     float64\n",
      " 4   Median Age                    24 non-null     float64\n",
      " 5   Fertility Rate                24 non-null     float64\n",
      " 6   Density (P/Km²)               24 non-null     int64  \n",
      " 7   Urban\n",
      "Pop %                   24 non-null     float64\n",
      " 8   Urban Population              24 non-null     int64  \n",
      " 9   Country's Share of\n",
      "World Pop  24 non-null     float64\n",
      " 10  World Population              24 non-null     object \n",
      " 11  India\n",
      "Global Rank             24 non-null     int64  \n",
      " 12  Population                    24 non-null     int64  \n",
      "dtypes: float64(6), int64(6), object(1)\n",
      "memory usage: 2.6+ KB\n"
     ]
    }
   ],
   "source": [
    "df.info()"
   ]
  },
  {
   "cell_type": "code",
   "execution_count": 11,
   "id": "9cb51dd9",
   "metadata": {},
   "outputs": [
    {
     "data": {
      "text/plain": [
       "(24, 13)"
      ]
     },
     "execution_count": 11,
     "metadata": {},
     "output_type": "execute_result"
    }
   ],
   "source": [
    "df.shape"
   ]
  },
  {
   "cell_type": "code",
   "execution_count": 12,
   "id": "b5b070e7",
   "metadata": {},
   "outputs": [
    {
     "data": {
      "text/plain": [
       "Index(['Year', 'Yearly % \\nChange', 'Yearly\\nChange', 'Migrants (net)',\n",
       "       'Median Age', 'Fertility Rate', 'Density (P/Km²)', 'Urban\\nPop %',\n",
       "       'Urban Population', 'Country's Share of\\nWorld Pop', 'World Population',\n",
       "       'India\\nGlobal Rank', 'Population'],\n",
       "      dtype='object')"
      ]
     },
     "execution_count": 12,
     "metadata": {},
     "output_type": "execute_result"
    }
   ],
   "source": [
    "df.columns"
   ]
  },
  {
   "cell_type": "code",
   "execution_count": 13,
   "id": "7a5f519a",
   "metadata": {},
   "outputs": [
    {
     "data": {
      "text/plain": [
       "<bound method NDFrame.describe of     Year  Yearly % \\nChange  Yearly\\nChange  Migrants (net)  Median Age  \\\n",
       "0   2050               0.23         3711367             NaN        38.1   \n",
       "1   2045               0.35         5585537       -414772.0        36.6   \n",
       "2   2040               0.50         7793541       -415736.0        35.0   \n",
       "3   2035               0.66        10016298       -415732.0        33.3   \n",
       "4   2030               0.80        11726140       -440124.0        31.7   \n",
       "5   2025               0.92        13001447       -464081.0        30.0   \n",
       "6   2020               1.04        13970396       -532687.0        28.4   \n",
       "7   2019               1.02        13775474       -532687.0        27.1   \n",
       "8   2018               1.04        13965495       -532687.0        27.1   \n",
       "9   2017               1.07        14159536       -532687.0        27.1   \n",
       "10  2016               1.10        14364846       -532687.0        27.1   \n",
       "11  2015               1.20        15174247       -470015.0        26.8   \n",
       "12  2010               1.47        17334249       -531169.0        25.1   \n",
       "13  2005               1.67        18206876       -377797.0        23.8   \n",
       "14  2000               1.85        18530592       -136514.0        22.7   \n",
       "15  1995               1.99        18128958       -110590.0        21.8   \n",
       "16  1990               2.17        17783558          9030.0        21.1   \n",
       "17  1985               2.33        17081433        115942.0        20.6   \n",
       "18  1980               2.32        15169989        222247.0        20.2   \n",
       "19  1975               2.33        13582621        421208.0        19.7   \n",
       "20  1970               2.15        11213294        -68569.0        19.3   \n",
       "21  1965               2.07         9715129        -17078.0        19.6   \n",
       "22  1960               1.91         8133417        -30805.0        20.2   \n",
       "23  1955               1.72         6711079        -21140.0        20.7   \n",
       "\n",
       "    Fertility Rate  Density (P/Km²)  Urban\\nPop %  Urban Population  \\\n",
       "0             2.24              551          53.5         876613025   \n",
       "1             2.24              545          50.1         811749463   \n",
       "2             2.24              536          46.7         744380367   \n",
       "3             2.24              523          43.5         675456367   \n",
       "4             2.24              506          40.4         607341981   \n",
       "5             2.24              486          37.6         542742539   \n",
       "6             2.24              464          35.0         483098640   \n",
       "7             2.36              460          34.5         471828295   \n",
       "8             2.36              455          34.1         460779764   \n",
       "9             2.36              450          33.6         449963381   \n",
       "10            2.36              445          33.2         439391699   \n",
       "11            2.40              441          32.7         429069459   \n",
       "12            2.80              415          30.8         380744554   \n",
       "13            3.14              386          29.1         334479406   \n",
       "14            3.48              355          27.6         291350282   \n",
       "15            3.83              324          26.5         255558824   \n",
       "16            4.27              294          25.5         222296728   \n",
       "17            4.68              264          24.3         190321782   \n",
       "18            4.97              235          23.0         160941941   \n",
       "19            5.41              210          21.3         132533810   \n",
       "20            5.72              187          19.7         109388950   \n",
       "21            5.89              168          18.7          93493844   \n",
       "22            5.90              152          17.9          80565723   \n",
       "23            5.90              138          17.6          71958495   \n",
       "\n",
       "    Country's Share of\\nWorld Pop World Population  India\\nGlobal Rank  \\\n",
       "0                           16.84       9735033990                   1   \n",
       "1                           17.09       9481803274                   1   \n",
       "2                           17.31       9198847240                   1   \n",
       "3                           17.48       8887524213                   1   \n",
       "4                           17.59       8548487400                   1   \n",
       "5                           17.66       8184437460                   2   \n",
       "6                           17.70       7794798739                   2   \n",
       "7                           17.71       7713468100                   2   \n",
       "8                           17.73       7631091040                   2   \n",
       "9                           17.74       7547858925                   2   \n",
       "10                          17.75       7464022049                   2   \n",
       "11                          17.75       7379797139                   2   \n",
       "12                          17.74       6956823603                   2   \n",
       "13                          17.54       6541907027                   2   \n",
       "14                          17.20       6143493823                   2   \n",
       "15                          16.78       5744212979                   2   \n",
       "16                          16.39       5327231061                   2   \n",
       "17                          16.10       4870921740                   2   \n",
       "18                          15.68       4458003514                   2   \n",
       "19                          15.27       4079480606                   2   \n",
       "20                          15.00       3700437046                   2   \n",
       "21                          14.95       3339583597                   2   \n",
       "22                          14.85       3034949748                   2   \n",
       "23                          14.78   2,77,30,19,936                   2   \n",
       "\n",
       "    Population  \n",
       "0   1639176033  \n",
       "1   1620619200  \n",
       "2   1592691513  \n",
       "3   1553723810  \n",
       "4   1503642322  \n",
       "5   1445011620  \n",
       "6   1380004385  \n",
       "7   1366417754  \n",
       "8   1352642280  \n",
       "9   1338676785  \n",
       "10  1324517249  \n",
       "11  1310152403  \n",
       "12  1234281170  \n",
       "13  1147609927  \n",
       "14  1056575549  \n",
       "15   963922588  \n",
       "16   873277798  \n",
       "17   784360008  \n",
       "18   698952844  \n",
       "19   623102897  \n",
       "20   555189792  \n",
       "21   499123324  \n",
       "22   450547679  \n",
       "23   409880595  >"
      ]
     },
     "execution_count": 13,
     "metadata": {},
     "output_type": "execute_result"
    }
   ],
   "source": [
    "df.describe"
   ]
  },
  {
   "cell_type": "markdown",
   "id": "7548ed50",
   "metadata": {},
   "source": [
    "#### Paso 2: Preparar los datos"
   ]
  },
  {
   "cell_type": "markdown",
   "id": "cfb4b6aa",
   "metadata": {},
   "source": [
    "Para nuestro ejercicio predeciremos la poblacion en función de la tasa de natalidad, para ello deberemos de hacer un subconjunto de datos con el que entrenaremos nuestro modelo."
   ]
  },
  {
   "cell_type": "code",
   "execution_count": 14,
   "id": "1a797dc5",
   "metadata": {},
   "outputs": [],
   "source": [
    "df = df[['Fertility Rate', 'Population']].copy()"
   ]
  },
  {
   "cell_type": "code",
   "execution_count": 17,
   "id": "edcb2519",
   "metadata": {},
   "outputs": [
    {
     "data": {
      "text/plain": [
       "Fertility Rate    0\n",
       "Population        0\n",
       "dtype: int64"
      ]
     },
     "execution_count": 17,
     "metadata": {},
     "output_type": "execute_result"
    }
   ],
   "source": [
    "#Contar registros nulos\n",
    "df.isna().sum()"
   ]
  },
  {
   "cell_type": "markdown",
   "id": "8afe5d41",
   "metadata": {},
   "source": [
    "Observamos que no contamos que registros nulos."
   ]
  },
  {
   "cell_type": "code",
   "execution_count": 20,
   "id": "653b4e43",
   "metadata": {},
   "outputs": [
    {
     "data": {
      "text/html": [
       "<div>\n",
       "<style scoped>\n",
       "    .dataframe tbody tr th:only-of-type {\n",
       "        vertical-align: middle;\n",
       "    }\n",
       "\n",
       "    .dataframe tbody tr th {\n",
       "        vertical-align: top;\n",
       "    }\n",
       "\n",
       "    .dataframe thead th {\n",
       "        text-align: right;\n",
       "    }\n",
       "</style>\n",
       "<table border=\"1\" class=\"dataframe\">\n",
       "  <thead>\n",
       "    <tr style=\"text-align: right;\">\n",
       "      <th></th>\n",
       "      <th>Fertility Rate</th>\n",
       "      <th>Population</th>\n",
       "    </tr>\n",
       "  </thead>\n",
       "  <tbody>\n",
       "  </tbody>\n",
       "</table>\n",
       "</div>"
      ],
      "text/plain": [
       "Empty DataFrame\n",
       "Columns: [Fertility Rate, Population]\n",
       "Index: []"
      ]
     },
     "execution_count": 20,
     "metadata": {},
     "output_type": "execute_result"
    }
   ],
   "source": [
    "# Visualizar datos duplicados\n",
    "df.loc[df.duplicated()]"
   ]
  },
  {
   "cell_type": "code",
   "execution_count": 21,
   "id": "57cbee93",
   "metadata": {},
   "outputs": [
    {
     "data": {
      "text/html": [
       "<div>\n",
       "<style scoped>\n",
       "    .dataframe tbody tr th:only-of-type {\n",
       "        vertical-align: middle;\n",
       "    }\n",
       "\n",
       "    .dataframe tbody tr th {\n",
       "        vertical-align: top;\n",
       "    }\n",
       "\n",
       "    .dataframe thead th {\n",
       "        text-align: right;\n",
       "    }\n",
       "</style>\n",
       "<table border=\"1\" class=\"dataframe\">\n",
       "  <thead>\n",
       "    <tr style=\"text-align: right;\">\n",
       "      <th></th>\n",
       "      <th>Fertility Rate</th>\n",
       "      <th>Population</th>\n",
       "    </tr>\n",
       "  </thead>\n",
       "  <tbody>\n",
       "    <tr>\n",
       "      <th>0</th>\n",
       "      <td>2.24</td>\n",
       "      <td>1639176033</td>\n",
       "    </tr>\n",
       "    <tr>\n",
       "      <th>1</th>\n",
       "      <td>2.24</td>\n",
       "      <td>1620619200</td>\n",
       "    </tr>\n",
       "    <tr>\n",
       "      <th>2</th>\n",
       "      <td>2.24</td>\n",
       "      <td>1592691513</td>\n",
       "    </tr>\n",
       "    <tr>\n",
       "      <th>3</th>\n",
       "      <td>2.24</td>\n",
       "      <td>1553723810</td>\n",
       "    </tr>\n",
       "    <tr>\n",
       "      <th>4</th>\n",
       "      <td>2.24</td>\n",
       "      <td>1503642322</td>\n",
       "    </tr>\n",
       "  </tbody>\n",
       "</table>\n",
       "</div>"
      ],
      "text/plain": [
       "   Fertility Rate  Population\n",
       "0            2.24  1639176033\n",
       "1            2.24  1620619200\n",
       "2            2.24  1592691513\n",
       "3            2.24  1553723810\n",
       "4            2.24  1503642322"
      ]
     },
     "execution_count": 21,
     "metadata": {},
     "output_type": "execute_result"
    }
   ],
   "source": [
    "df.head(5)"
   ]
  },
  {
   "cell_type": "markdown",
   "id": "94e65eef",
   "metadata": {},
   "source": [
    "#### EDA"
   ]
  },
  {
   "cell_type": "code",
   "execution_count": 24,
   "id": "2595806c",
   "metadata": {},
   "outputs": [
    {
     "data": {
      "text/plain": [
       "<seaborn.axisgrid.JointGrid at 0x2006e5916d0>"
      ]
     },
     "execution_count": 24,
     "metadata": {},
     "output_type": "execute_result"
    },
    {
     "data": {
      "image/png": "[encoded data removed]",
      "text/plain": [
       "<Figure size 600x600 with 3 Axes>"
      ]
     },
     "metadata": {},
     "output_type": "display_data"
    }
   ],
   "source": [
    "sns.jointplot(x='Fertility Rate', y='Population', data=df)"
   ]
  },
  {
   "cell_type": "code",
   "execution_count": 27,
   "id": "a9a69b1f",
   "metadata": {},
   "outputs": [
    {
     "data": {
      "text/plain": [
       "<seaborn.axisgrid.PairGrid at 0x2006ef7f250>"
      ]
     },
     "execution_count": 27,
     "metadata": {},
     "output_type": "execute_result"
    },
    {
     "data": {
      "image/png": "[encoded data removed]",
      "text/plain": [
       "<Figure size 500x500 with 6 Axes>"
      ]
     },
     "metadata": {},
     "output_type": "display_data"
    }
   ],
   "source": [
    "sns.pairplot(data=df, kind='scatter', plot_kws={'alpha': 0.5})"
   ]
  },
  {
   "cell_type": "markdown",
   "id": "60a1494f",
   "metadata": {},
   "source": [
    "#### Implementación del modelo en Python"
   ]
  },
  {
   "cell_type": "code",
   "execution_count": 33,
   "id": "3d32b189",
   "metadata": {},
   "outputs": [
    {
     "data": {
      "text/html": [
       "<div>\n",
       "<style scoped>\n",
       "    .dataframe tbody tr th:only-of-type {\n",
       "        vertical-align: middle;\n",
       "    }\n",
       "\n",
       "    .dataframe tbody tr th {\n",
       "        vertical-align: top;\n",
       "    }\n",
       "\n",
       "    .dataframe thead th {\n",
       "        text-align: right;\n",
       "    }\n",
       "</style>\n",
       "<table border=\"1\" class=\"dataframe\">\n",
       "  <thead>\n",
       "    <tr style=\"text-align: right;\">\n",
       "      <th></th>\n",
       "      <th>Fertility Rate</th>\n",
       "      <th>Population</th>\n",
       "    </tr>\n",
       "  </thead>\n",
       "  <tbody>\n",
       "    <tr>\n",
       "      <th>0</th>\n",
       "      <td>2.24</td>\n",
       "      <td>1639176033</td>\n",
       "    </tr>\n",
       "    <tr>\n",
       "      <th>1</th>\n",
       "      <td>2.24</td>\n",
       "      <td>1620619200</td>\n",
       "    </tr>\n",
       "    <tr>\n",
       "      <th>2</th>\n",
       "      <td>2.24</td>\n",
       "      <td>1592691513</td>\n",
       "    </tr>\n",
       "    <tr>\n",
       "      <th>3</th>\n",
       "      <td>2.24</td>\n",
       "      <td>1553723810</td>\n",
       "    </tr>\n",
       "    <tr>\n",
       "      <th>4</th>\n",
       "      <td>2.24</td>\n",
       "      <td>1503642322</td>\n",
       "    </tr>\n",
       "    <tr>\n",
       "      <th>5</th>\n",
       "      <td>2.24</td>\n",
       "      <td>1445011620</td>\n",
       "    </tr>\n",
       "    <tr>\n",
       "      <th>6</th>\n",
       "      <td>2.24</td>\n",
       "      <td>1380004385</td>\n",
       "    </tr>\n",
       "    <tr>\n",
       "      <th>7</th>\n",
       "      <td>2.36</td>\n",
       "      <td>1366417754</td>\n",
       "    </tr>\n",
       "    <tr>\n",
       "      <th>8</th>\n",
       "      <td>2.36</td>\n",
       "      <td>1352642280</td>\n",
       "    </tr>\n",
       "    <tr>\n",
       "      <th>9</th>\n",
       "      <td>2.36</td>\n",
       "      <td>1338676785</td>\n",
       "    </tr>\n",
       "    <tr>\n",
       "      <th>10</th>\n",
       "      <td>2.36</td>\n",
       "      <td>1324517249</td>\n",
       "    </tr>\n",
       "    <tr>\n",
       "      <th>11</th>\n",
       "      <td>2.40</td>\n",
       "      <td>1310152403</td>\n",
       "    </tr>\n",
       "    <tr>\n",
       "      <th>12</th>\n",
       "      <td>2.80</td>\n",
       "      <td>1234281170</td>\n",
       "    </tr>\n",
       "    <tr>\n",
       "      <th>13</th>\n",
       "      <td>3.14</td>\n",
       "      <td>1147609927</td>\n",
       "    </tr>\n",
       "    <tr>\n",
       "      <th>14</th>\n",
       "      <td>3.48</td>\n",
       "      <td>1056575549</td>\n",
       "    </tr>\n",
       "    <tr>\n",
       "      <th>15</th>\n",
       "      <td>3.83</td>\n",
       "      <td>963922588</td>\n",
       "    </tr>\n",
       "    <tr>\n",
       "      <th>16</th>\n",
       "      <td>4.27</td>\n",
       "      <td>873277798</td>\n",
       "    </tr>\n",
       "    <tr>\n",
       "      <th>17</th>\n",
       "      <td>4.68</td>\n",
       "      <td>784360008</td>\n",
       "    </tr>\n",
       "    <tr>\n",
       "      <th>18</th>\n",
       "      <td>4.97</td>\n",
       "      <td>698952844</td>\n",
       "    </tr>\n",
       "    <tr>\n",
       "      <th>19</th>\n",
       "      <td>5.41</td>\n",
       "      <td>623102897</td>\n",
       "    </tr>\n",
       "    <tr>\n",
       "      <th>20</th>\n",
       "      <td>5.72</td>\n",
       "      <td>555189792</td>\n",
       "    </tr>\n",
       "    <tr>\n",
       "      <th>21</th>\n",
       "      <td>5.89</td>\n",
       "      <td>499123324</td>\n",
       "    </tr>\n",
       "    <tr>\n",
       "      <th>22</th>\n",
       "      <td>5.90</td>\n",
       "      <td>450547679</td>\n",
       "    </tr>\n",
       "    <tr>\n",
       "      <th>23</th>\n",
       "      <td>5.90</td>\n",
       "      <td>409880595</td>\n",
       "    </tr>\n",
       "  </tbody>\n",
       "</table>\n",
       "</div>"
      ],
      "text/plain": [
       "    Fertility Rate  Population\n",
       "0             2.24  1639176033\n",
       "1             2.24  1620619200\n",
       "2             2.24  1592691513\n",
       "3             2.24  1553723810\n",
       "4             2.24  1503642322\n",
       "5             2.24  1445011620\n",
       "6             2.24  1380004385\n",
       "7             2.36  1366417754\n",
       "8             2.36  1352642280\n",
       "9             2.36  1338676785\n",
       "10            2.36  1324517249\n",
       "11            2.40  1310152403\n",
       "12            2.80  1234281170\n",
       "13            3.14  1147609927\n",
       "14            3.48  1056575549\n",
       "15            3.83   963922588\n",
       "16            4.27   873277798\n",
       "17            4.68   784360008\n",
       "18            4.97   698952844\n",
       "19            5.41   623102897\n",
       "20            5.72   555189792\n",
       "21            5.89   499123324\n",
       "22            5.90   450547679\n",
       "23            5.90   409880595"
      ]
     },
     "execution_count": 33,
     "metadata": {},
     "output_type": "execute_result"
    }
   ],
   "source": [
    "df"
   ]
  },
  {
   "cell_type": "code",
   "execution_count": 43,
   "id": "51fcb0ac",
   "metadata": {},
   "outputs": [
    {
     "data": {
      "text/plain": [
       "array([1.41381456e+09, 8.98102217e+08, 1.44621533e+09, 7.09097694e+08,\n",
       "       1.40301430e+09, 1.41381456e+09, 1.20320952e+09, 1.44621533e+09])"
      ]
     },
     "execution_count": 43,
     "metadata": {},
     "output_type": "execute_result"
    }
   ],
   "source": [
    "from sklearn.linear_model import LinearRegression\n",
    "from sklearn.metrics import r2_score, mean_absolute_error, mean_squared_error\n",
    "from sklearn.model_selection import train_test_split\n",
    "\n",
    "x = df[['Fertility Rate']]\n",
    "y = df['Population']\n",
    "\n",
    "# Dividir los datos en una proporcion 70% datos de entrenaminento y 30% datos de prueba\n",
    "x_train, x_test, y_train, y_test = train_test_split(x, y, test_size=0.3, random_state=42)\n",
    "\n",
    "# Definir el modelo de regresión lineal\n",
    "model = LinearRegression()\n",
    "\n",
    "# Entrenar el modelo\n",
    "model.fit(x_train, y_train)\n",
    "\n",
    "# Predicir\n",
    "model.predict(x_test)\n"
   ]
  },
  {
   "cell_type": "code",
   "execution_count": 39,
   "id": "17c24272",
   "metadata": {},
   "outputs": [
    {
     "data": {
      "image/png": "[encoded data removed]",
      "text/plain": [
       "<Figure size 640x480 with 1 Axes>"
      ]
     },
     "metadata": {},
     "output_type": "display_data"
    }
   ],
   "source": [
    "# Visualizar el modelo\n",
    "\n",
    "a = model.coef_\n",
    "b = model.intercept_\n",
    "\n",
    "y_pred = a*x + b\n",
    "\n",
    "plt.plot(x, y_pred, color='black', label='Best-fit model')\n",
    "plt.scatter(x, y, color='red', label='Original data')\n",
    "\n",
    "plt.legend()\n",
    "plt.title('Regresión Lineal')\n",
    "plt.xlabel('Fertility Rate')\n",
    "plt.ylabel('Population')\n",
    "\n",
    "plt.show()"
   ]
  },
  {
   "cell_type": "code",
   "execution_count": 44,
   "id": "bb964c14",
   "metadata": {},
   "outputs": [
    {
     "name": "stdout",
     "output_type": "stream",
     "text": [
      "Error R^2: 0.9585112259802652\n",
      "MAE: 64566741.48493806\n",
      "MSE: 6549387823102245.0\n"
     ]
    }
   ],
   "source": [
    "# Error R^2\n",
    "r2 = r2_score(y, y_pred)\n",
    "# Error absoluto medio\n",
    "mae = mean_absolute_error(y, y_pred)\n",
    "# Error cuadratico medio\n",
    "mse = mean_squared_error(y, y_pred)\n",
    "\n",
    "print(f'Error R^2: {r2}')\n",
    "print(f'MAE: {mae}')\n",
    "print(f'MSE: {mse}')"
   ]
  },
  {
   "cell_type": "code",
   "execution_count": null,
   "id": "7fab3d2b",
   "metadata": {},
   "outputs": [],
   "source": []
  }
 ],
 "metadata": {
  "kernelspec": {
   "display_name": "venv",
   "language": "python",
   "name": "python3"
  },
  "language_info": {
   "codemirror_mode": {
    "name": "ipython",
    "version": 3
   },
   "file_extension": ".py",
   "mimetype": "text/x-python",
   "name": "python",
   "nbconvert_exporter": "python",
   "pygments_lexer": "ipython3",
   "version": "3.13.2"
  }
 },
 "nbformat": 4,
 "nbformat_minor": 5
}
